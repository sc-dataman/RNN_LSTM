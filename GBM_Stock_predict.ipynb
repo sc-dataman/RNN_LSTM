{
  "nbformat": 4,
  "nbformat_minor": 0,
  "metadata": {
    "colab": {
      "name": "Copy of Copy of Copy of Untitled4.ipynb",
      "provenance": [],
      "authorship_tag": "ABX9TyPYviPikXGiBD+4ByuwUIee",
      "include_colab_link": true
    },
    "kernelspec": {
      "name": "python3",
      "display_name": "Python 3"
    }
  },
  "cells": [
    {
      "cell_type": "markdown",
      "metadata": {
        "id": "view-in-github",
        "colab_type": "text"
      },
      "source": [
        "<a href=\"https://colab.research.google.com/github/sc-dataman/RNN_LSTM/blob/master/GBM_Stock_predict.ipynb\" target=\"_parent\"><img src=\"https://colab.research.google.com/assets/colab-badge.svg\" alt=\"Open In Colab\"/></a>"
      ]
    },
    {
      "cell_type": "code",
      "metadata": {
        "id": "mu9Wp7pJbVDP",
        "colab_type": "code",
        "outputId": "cb010606-1499-473d-c15a-ba0f4e0b9d59",
        "colab": {
          "base_uri": "https://localhost:8080/",
          "height": 285
        }
      },
      "source": [
        "# Recurrent Neural Network\n",
        "\n",
        "\n",
        "\n",
        "# Part 1 - Data Preprocessing\n",
        "\n",
        "# Importing the libraries\n",
        "# Now Create data \n",
        "from __future__ import division\n",
        "from random import gauss\n",
        "from math import exp, sqrt\n",
        "from matplotlib import pyplot as plt\n",
        "\n",
        "def generate_asset_price(S,v,r,T):\n",
        "    return S * exp((r - 0.5 * v**2) * T + v * sqrt(T) * gauss(0,1.0))\n",
        "\n",
        "# USER INPUT\n",
        "S0 = 50 # underlying price\n",
        "v = 0.20 # vol of 20.76%\n",
        "mu = 0.02 # mu\n",
        "dt = 1/252 # 1 day\n",
        "T = 5 # period end\n",
        "n = int(T/dt) # number of steps\n",
        "\n",
        "S_path=[]\n",
        "S=S0 # starting price\n",
        "for i in range(1,n+1):\n",
        "    S_t = generate_asset_price(S,v,mu,dt)\n",
        "    S= S_t\n",
        "    S_path.append(S_t)\n",
        "\n",
        "plt.plot(S_path)\n"
      ],
      "execution_count": 1,
      "outputs": [
        {
          "output_type": "execute_result",
          "data": {
            "text/plain": [
              "[<matplotlib.lines.Line2D at 0x7f6bbc7e5c88>]"
            ]
          },
          "metadata": {
            "tags": []
          },
          "execution_count": 1
        },
        {
          "output_type": "display_data",
          "data": {
            "image/png": "[encoded data removed]",
            "text/plain": [
              "<Figure size 432x288 with 1 Axes>"
            ]
          },
          "metadata": {
            "tags": []
          }
        }
      ]
    },
    {
      "cell_type": "code",
      "metadata": {
        "id": "3btTUfQUtr3E",
        "colab_type": "code",
        "colab": {
          "base_uri": "https://localhost:8080/",
          "height": 35
        },
        "outputId": "3d2f044b-fa7d-42e8-b242-0ffed98e6670"
      },
      "source": [
        "len(S_path)"
      ],
      "execution_count": 5,
      "outputs": [
        {
          "output_type": "execute_result",
          "data": {
            "text/plain": [
              "1260"
            ]
          },
          "metadata": {
            "tags": []
          },
          "execution_count": 5
        }
      ]
    },
    {
      "cell_type": "code",
      "metadata": {
        "id": "EmVCQKkht4hs",
        "colab_type": "code",
        "colab": {
          "base_uri": "https://localhost:8080/",
          "height": 274
        },
        "outputId": "e6393fba-5914-4601-f749-11f14cb98dd8"
      },
      "source": [
        "from dateutil import rrule \n",
        "import datetime\n",
        "\n",
        "# Generate ruleset for holiday observances on the NYSE\n",
        "\n",
        "def NYSE_holidays(a=datetime.date.today(), b=datetime.date.today()+datetime.timedelta(days=365)):\n",
        "    rs = rrule.rruleset()\n",
        "\n",
        "    # Include all potential holiday observances\n",
        "    rs.rrule(rrule.rrule(rrule.YEARLY, dtstart=a, until=b, bymonth=12, bymonthday=31, byweekday=rrule.FR)) # New Years Day  \n",
        "    rs.rrule(rrule.rrule(rrule.YEARLY, dtstart=a, until=b, bymonth= 1, bymonthday= 1))                     # New Years Day  \n",
        "    rs.rrule(rrule.rrule(rrule.YEARLY, dtstart=a, until=b, bymonth= 1, bymonthday= 2, byweekday=rrule.MO)) # New Years Day    \n",
        "    rs.rrule(rrule.rrule(rrule.YEARLY, dtstart=a, until=b, bymonth= 1, byweekday= rrule.MO(3)))            # Martin Luther King Day   \n",
        "    rs.rrule(rrule.rrule(rrule.YEARLY, dtstart=a, until=b, bymonth= 2, byweekday= rrule.MO(3)))            # Washington's Birthday\n",
        "    rs.rrule(rrule.rrule(rrule.YEARLY, dtstart=a, until=b, byeaster= -2))                                  # Good Friday\n",
        "    rs.rrule(rrule.rrule(rrule.YEARLY, dtstart=a, until=b, bymonth= 5, byweekday= rrule.MO(-1)))           # Memorial Day\n",
        "    rs.rrule(rrule.rrule(rrule.YEARLY, dtstart=a, until=b, bymonth= 7, bymonthday= 3, byweekday=rrule.FR)) # Independence Day\n",
        "    rs.rrule(rrule.rrule(rrule.YEARLY, dtstart=a, until=b, bymonth= 7, bymonthday= 4))                     # Independence Day\n",
        "    rs.rrule(rrule.rrule(rrule.YEARLY, dtstart=a, until=b, bymonth= 7, bymonthday= 5, byweekday=rrule.MO)) # Independence Day\n",
        "    rs.rrule(rrule.rrule(rrule.YEARLY, dtstart=a, until=b, bymonth= 9, byweekday= rrule.MO(1)))            # Labor Day\n",
        "    rs.rrule(rrule.rrule(rrule.YEARLY, dtstart=a, until=b, bymonth=11, byweekday= rrule.TH(4)))            # Thanksgiving Day\n",
        "    rs.rrule(rrule.rrule(rrule.YEARLY, dtstart=a, until=b, bymonth=12, bymonthday=24, byweekday=rrule.FR)) # Christmas  \n",
        "    rs.rrule(rrule.rrule(rrule.YEARLY, dtstart=a, until=b, bymonth=12, bymonthday=25))                     # Christmas  \n",
        "    rs.rrule(rrule.rrule(rrule.YEARLY, dtstart=a, until=b, bymonth=12, bymonthday=26, byweekday=rrule.MO)) # Christmas \n",
        "    \n",
        "    # Exclude potential holidays that fall on weekends\n",
        "    rs.exrule(rrule.rrule(rrule.WEEKLY, dtstart=a, until=b, byweekday=(rrule.SA,rrule.SU)))\n",
        "\n",
        "    return rs\n",
        "    \n",
        "# Generate ruleset for NYSE trading days\n",
        "\n",
        "def NYSE_tradingdays(a=datetime.date.today(), b=datetime.date.today()+datetime.timedelta(days=365)):\n",
        "    rs = rrule.rruleset()\n",
        "    rs.rrule(rrule.rrule(rrule.DAILY, dtstart=a, until=b))\n",
        "    \n",
        "    # Exclude weekends and holidays\n",
        "    rs.exrule(rrule.rrule(rrule.WEEKLY, dtstart=a, byweekday=(rrule.SA,rrule.SU)))\n",
        "    rs.exrule(NYSE_holidays(a,b))\n",
        "    \n",
        "    return rs\n",
        "\n",
        "# Examples\n",
        "\n",
        "# List all NYSE holiday observances for the coming year\n",
        "print (\"NYSE Holidays\\n\")\n",
        "for dy in NYSE_holidays():\n",
        "    print (dy.strftime('%b %d %Y'))\n",
        "    \n",
        "\n",
        "dts = []\n",
        "# Count NYSE trading days in next 5 years\n",
        "\n",
        "for yr in range(2015,2020):\n",
        "  for d in list(NYSE_tradingdays(datetime.datetime(yr,1,1),datetime.datetime(yr,12,31))):\n",
        "    dts.append(d.strftime('%b %d %Y'))\n",
        "\n",
        "print(dts)\n",
        "\n",
        "len(dts)"
      ],
      "execution_count": 3,
      "outputs": [
        {
          "output_type": "stream",
          "text": [
            "NYSE Holidays\n",
            "\n",
            "Apr 10 2020\n",
            "May 25 2020\n",
            "Jul 03 2020\n",
            "Sep 07 2020\n",
            "Nov 26 2020\n",
            "Dec 25 2020\n",
            "Jan 01 2021\n",
            "Jan 18 2021\n",
            "Feb 15 2021\n",
            "['Jan 02 2015', 'Jan 05 2015', 'Jan 06 2015', 'Jan 07 2015', 'Jan 08 2015', 'Jan 09 2015', 'Jan 12 2015', 'Jan 13 2015', 'Jan 14 2015', 'Jan 15 2015', 'Jan 16 2015', 'Jan 20 2015', 'Jan 21 2015', 'Jan 22 2015', 'Jan 23 2015', 'Jan 26 2015', 'Jan 27 2015', 'Jan 28 2015', 'Jan 29 2015', 'Jan 30 2015', 'Feb 02 2015', 'Feb 03 2015', 'Feb 04 2015', 'Feb 05 2015', 'Feb 06 2015', 'Feb 09 2015', 'Feb 10 2015', 'Feb 11 2015', 'Feb 12 2015', 'Feb 13 2015', 'Feb 17 2015', 'Feb 18 2015', 'Feb 19 2015', 'Feb 20 2015', 'Feb 23 2015', 'Feb 24 2015', 'Feb 25 2015', 'Feb 26 2015', 'Feb 27 2015', 'Mar 02 2015', 'Mar 03 2015', 'Mar 04 2015', 'Mar 05 2015', 'Mar 06 2015', 'Mar 09 2015', 'Mar 10 2015', 'Mar 11 2015', 'Mar 12 2015', 'Mar 13 2015', 'Mar 16 2015', 'Mar 17 2015', 'Mar 18 2015', 'Mar 19 2015', 'Mar 20 2015', 'Mar 23 2015', 'Mar 24 2015', 'Mar 25 2015', 'Mar 26 2015', 'Mar 27 2015', 'Mar 30 2015', 'Mar 31 2015', 'Apr 01 2015', 'Apr 02 2015', 'Apr 06 2015', 'Apr 07 2015', 'Apr 08 2015', 'Apr 09 2015', 'Apr 10 2015', 'Apr 13 2015', 'Apr 14 2015', 'Apr 15 2015', 'Apr 16 2015', 'Apr 17 2015', 'Apr 20 2015', 'Apr 21 2015', 'Apr 22 2015', 'Apr 23 2015', 'Apr 24 2015', 'Apr 27 2015', 'Apr 28 2015', 'Apr 29 2015', 'Apr 30 2015', 'May 01 2015', 'May 04 2015', 'May 05 2015', 'May 06 2015', 'May 07 2015', 'May 08 2015', 'May 11 2015', 'May 12 2015', 'May 13 2015', 'May 14 2015', 'May 15 2015', 'May 18 2015', 'May 19 2015', 'May 20 2015', 'May 21 2015', 'May 22 2015', 'May 26 2015', 'May 27 2015', 'May 28 2015', 'May 29 2015', 'Jun 01 2015', 'Jun 02 2015', 'Jun 03 2015', 'Jun 04 2015', 'Jun 05 2015', 'Jun 08 2015', 'Jun 09 2015', 'Jun 10 2015', 'Jun 11 2015', 'Jun 12 2015', 'Jun 15 2015', 'Jun 16 2015', 'Jun 17 2015', 'Jun 18 2015', 'Jun 19 2015', 'Jun 22 2015', 'Jun 23 2015', 'Jun 24 2015', 'Jun 25 2015', 'Jun 26 2015', 'Jun 29 2015', 'Jun 30 2015', 'Jul 01 2015', 'Jul 02 2015', 'Jul 06 2015', 'Jul 07 2015', 'Jul 08 2015', 'Jul 09 2015', 'Jul 10 2015', 'Jul 13 2015', 'Jul 14 2015', 'Jul 15 2015', 'Jul 16 2015', 'Jul 17 2015', 'Jul 20 2015', 'Jul 21 2015', 'Jul 22 2015', 'Jul 23 2015', 'Jul 24 2015', 'Jul 27 2015', 'Jul 28 2015', 'Jul 29 2015', 'Jul 30 2015', 'Jul 31 2015', 'Aug 03 2015', 'Aug 04 2015', 'Aug 05 2015', 'Aug 06 2015', 'Aug 07 2015', 'Aug 10 2015', 'Aug 11 2015', 'Aug 12 2015', 'Aug 13 2015', 'Aug 14 2015', 'Aug 17 2015', 'Aug 18 2015', 'Aug 19 2015', 'Aug 20 2015', 'Aug 21 2015', 'Aug 24 2015', 'Aug 25 2015', 'Aug 26 2015', 'Aug 27 2015', 'Aug 28 2015', 'Aug 31 2015', 'Sep 01 2015', 'Sep 02 2015', 'Sep 03 2015', 'Sep 04 2015', 'Sep 08 2015', 'Sep 09 2015', 'Sep 10 2015', 'Sep 11 2015', 'Sep 14 2015', 'Sep 15 2015', 'Sep 16 2015', 'Sep 17 2015', 'Sep 18 2015', 'Sep 21 2015', 'Sep 22 2015', 'Sep 23 2015', 'Sep 24 2015', 'Sep 25 2015', 'Sep 28 2015', 'Sep 29 2015', 'Sep 30 2015', 'Oct 01 2015', 'Oct 02 2015', 'Oct 05 2015', 'Oct 06 2015', 'Oct 07 2015', 'Oct 08 2015', 'Oct 09 2015', 'Oct 12 2015', 'Oct 13 2015', 'Oct 14 2015', 'Oct 15 2015', 'Oct 16 2015', 'Oct 19 2015', 'Oct 20 2015', 'Oct 21 2015', 'Oct 22 2015', 'Oct 23 2015', 'Oct 26 2015', 'Oct 27 2015', 'Oct 28 2015', 'Oct 29 2015', 'Oct 30 2015', 'Nov 02 2015', 'Nov 03 2015', 'Nov 04 2015', 'Nov 05 2015', 'Nov 06 2015', 'Nov 09 2015', 'Nov 10 2015', 'Nov 11 2015', 'Nov 12 2015', 'Nov 13 2015', 'Nov 16 2015', 'Nov 17 2015', 'Nov 18 2015', 'Nov 19 2015', 'Nov 20 2015', 'Nov 23 2015', 'Nov 24 2015', 'Nov 25 2015', 'Nov 27 2015', 'Nov 30 2015', 'Dec 01 2015', 'Dec 02 2015', 'Dec 03 2015', 'Dec 04 2015', 'Dec 07 2015', 'Dec 08 2015', 'Dec 09 2015', 'Dec 10 2015', 'Dec 11 2015', 'Dec 14 2015', 'Dec 15 2015', 'Dec 16 2015', 'Dec 17 2015', 'Dec 18 2015', 'Dec 21 2015', 'Dec 22 2015', 'Dec 23 2015', 'Dec 24 2015', 'Dec 28 2015', 'Dec 29 2015', 'Dec 30 2015', 'Dec 31 2015', 'Jan 04 2016', 'Jan 05 2016', 'Jan 06 2016', 'Jan 07 2016', 'Jan 08 2016', 'Jan 11 2016', 'Jan 12 2016', 'Jan 13 2016', 'Jan 14 2016', 'Jan 15 2016', 'Jan 19 2016', 'Jan 20 2016', 'Jan 21 2016', 'Jan 22 2016', 'Jan 25 2016', 'Jan 26 2016', 'Jan 27 2016', 'Jan 28 2016', 'Jan 29 2016', 'Feb 01 2016', 'Feb 02 2016', 'Feb 03 2016', 'Feb 04 2016', 'Feb 05 2016', 'Feb 08 2016', 'Feb 09 2016', 'Feb 10 2016', 'Feb 11 2016', 'Feb 12 2016', 'Feb 16 2016', 'Feb 17 2016', 'Feb 18 2016', 'Feb 19 2016', 'Feb 22 2016', 'Feb 23 2016', 'Feb 24 2016', 'Feb 25 2016', 'Feb 26 2016', 'Feb 29 2016', 'Mar 01 2016', 'Mar 02 2016', 'Mar 03 2016', 'Mar 04 2016', 'Mar 07 2016', 'Mar 08 2016', 'Mar 09 2016', 'Mar 10 2016', 'Mar 11 2016', 'Mar 14 2016', 'Mar 15 2016', 'Mar 16 2016', 'Mar 17 2016', 'Mar 18 2016', 'Mar 21 2016', 'Mar 22 2016', 'Mar 23 2016', 'Mar 24 2016', 'Mar 28 2016', 'Mar 29 2016', 'Mar 30 2016', 'Mar 31 2016', 'Apr 01 2016', 'Apr 04 2016', 'Apr 05 2016', 'Apr 06 2016', 'Apr 07 2016', 'Apr 08 2016', 'Apr 11 2016', 'Apr 12 2016', 'Apr 13 2016', 'Apr 14 2016', 'Apr 15 2016', 'Apr 18 2016', 'Apr 19 2016', 'Apr 20 2016', 'Apr 21 2016', 'Apr 22 2016', 'Apr 25 2016', 'Apr 26 2016', 'Apr 27 2016', 'Apr 28 2016', 'Apr 29 2016', 'May 02 2016', 'May 03 2016', 'May 04 2016', 'May 05 2016', 'May 06 2016', 'May 09 2016', 'May 10 2016', 'May 11 2016', 'May 12 2016', 'May 13 2016', 'May 16 2016', 'May 17 2016', 'May 18 2016', 'May 19 2016', 'May 20 2016', 'May 23 2016', 'May 24 2016', 'May 25 2016', 'May 26 2016', 'May 27 2016', 'May 31 2016', 'Jun 01 2016', 'Jun 02 2016', 'Jun 03 2016', 'Jun 06 2016', 'Jun 07 2016', 'Jun 08 2016', 'Jun 09 2016', 'Jun 10 2016', 'Jun 13 2016', 'Jun 14 2016', 'Jun 15 2016', 'Jun 16 2016', 'Jun 17 2016', 'Jun 20 2016', 'Jun 21 2016', 'Jun 22 2016', 'Jun 23 2016', 'Jun 24 2016', 'Jun 27 2016', 'Jun 28 2016', 'Jun 29 2016', 'Jun 30 2016', 'Jul 01 2016', 'Jul 05 2016', 'Jul 06 2016', 'Jul 07 2016', 'Jul 08 2016', 'Jul 11 2016', 'Jul 12 2016', 'Jul 13 2016', 'Jul 14 2016', 'Jul 15 2016', 'Jul 18 2016', 'Jul 19 2016', 'Jul 20 2016', 'Jul 21 2016', 'Jul 22 2016', 'Jul 25 2016', 'Jul 26 2016', 'Jul 27 2016', 'Jul 28 2016', 'Jul 29 2016', 'Aug 01 2016', 'Aug 02 2016', 'Aug 03 2016', 'Aug 04 2016', 'Aug 05 2016', 'Aug 08 2016', 'Aug 09 2016', 'Aug 10 2016', 'Aug 11 2016', 'Aug 12 2016', 'Aug 15 2016', 'Aug 16 2016', 'Aug 17 2016', 'Aug 18 2016', 'Aug 19 2016', 'Aug 22 2016', 'Aug 23 2016', 'Aug 24 2016', 'Aug 25 2016', 'Aug 26 2016', 'Aug 29 2016', 'Aug 30 2016', 'Aug 31 2016', 'Sep 01 2016', 'Sep 02 2016', 'Sep 06 2016', 'Sep 07 2016', 'Sep 08 2016', 'Sep 09 2016', 'Sep 12 2016', 'Sep 13 2016', 'Sep 14 2016', 'Sep 15 2016', 'Sep 16 2016', 'Sep 19 2016', 'Sep 20 2016', 'Sep 21 2016', 'Sep 22 2016', 'Sep 23 2016', 'Sep 26 2016', 'Sep 27 2016', 'Sep 28 2016', 'Sep 29 2016', 'Sep 30 2016', 'Oct 03 2016', 'Oct 04 2016', 'Oct 05 2016', 'Oct 06 2016', 'Oct 07 2016', 'Oct 10 2016', 'Oct 11 2016', 'Oct 12 2016', 'Oct 13 2016', 'Oct 14 2016', 'Oct 17 2016', 'Oct 18 2016', 'Oct 19 2016', 'Oct 20 2016', 'Oct 21 2016', 'Oct 24 2016', 'Oct 25 2016', 'Oct 26 2016', 'Oct 27 2016', 'Oct 28 2016', 'Oct 31 2016', 'Nov 01 2016', 'Nov 02 2016', 'Nov 03 2016', 'Nov 04 2016', 'Nov 07 2016', 'Nov 08 2016', 'Nov 09 2016', 'Nov 10 2016', 'Nov 11 2016', 'Nov 14 2016', 'Nov 15 2016', 'Nov 16 2016', 'Nov 17 2016', 'Nov 18 2016', 'Nov 21 2016', 'Nov 22 2016', 'Nov 23 2016', 'Nov 25 2016', 'Nov 28 2016', 'Nov 29 2016', 'Nov 30 2016', 'Dec 01 2016', 'Dec 02 2016', 'Dec 05 2016', 'Dec 06 2016', 'Dec 07 2016', 'Dec 08 2016', 'Dec 09 2016', 'Dec 12 2016', 'Dec 13 2016', 'Dec 14 2016', 'Dec 15 2016', 'Dec 16 2016', 'Dec 19 2016', 'Dec 20 2016', 'Dec 21 2016', 'Dec 22 2016', 'Dec 23 2016', 'Dec 27 2016', 'Dec 28 2016', 'Dec 29 2016', 'Dec 30 2016', 'Jan 03 2017', 'Jan 04 2017', 'Jan 05 2017', 'Jan 06 2017', 'Jan 09 2017', 'Jan 10 2017', 'Jan 11 2017', 'Jan 12 2017', 'Jan 13 2017', 'Jan 17 2017', 'Jan 18 2017', 'Jan 19 2017', 'Jan 20 2017', 'Jan 23 2017', 'Jan 24 2017', 'Jan 25 2017', 'Jan 26 2017', 'Jan 27 2017', 'Jan 30 2017', 'Jan 31 2017', 'Feb 01 2017', 'Feb 02 2017', 'Feb 03 2017', 'Feb 06 2017', 'Feb 07 2017', 'Feb 08 2017', 'Feb 09 2017', 'Feb 10 2017', 'Feb 13 2017', 'Feb 14 2017', 'Feb 15 2017', 'Feb 16 2017', 'Feb 17 2017', 'Feb 21 2017', 'Feb 22 2017', 'Feb 23 2017', 'Feb 24 2017', 'Feb 27 2017', 'Feb 28 2017', 'Mar 01 2017', 'Mar 02 2017', 'Mar 03 2017', 'Mar 06 2017', 'Mar 07 2017', 'Mar 08 2017', 'Mar 09 2017', 'Mar 10 2017', 'Mar 13 2017', 'Mar 14 2017', 'Mar 15 2017', 'Mar 16 2017', 'Mar 17 2017', 'Mar 20 2017', 'Mar 21 2017', 'Mar 22 2017', 'Mar 23 2017', 'Mar 24 2017', 'Mar 27 2017', 'Mar 28 2017', 'Mar 29 2017', 'Mar 30 2017', 'Mar 31 2017', 'Apr 03 2017', 'Apr 04 2017', 'Apr 05 2017', 'Apr 06 2017', 'Apr 07 2017', 'Apr 10 2017', 'Apr 11 2017', 'Apr 12 2017', 'Apr 13 2017', 'Apr 17 2017', 'Apr 18 2017', 'Apr 19 2017', 'Apr 20 2017', 'Apr 21 2017', 'Apr 24 2017', 'Apr 25 2017', 'Apr 26 2017', 'Apr 27 2017', 'Apr 28 2017', 'May 01 2017', 'May 02 2017', 'May 03 2017', 'May 04 2017', 'May 05 2017', 'May 08 2017', 'May 09 2017', 'May 10 2017', 'May 11 2017', 'May 12 2017', 'May 15 2017', 'May 16 2017', 'May 17 2017', 'May 18 2017', 'May 19 2017', 'May 22 2017', 'May 23 2017', 'May 24 2017', 'May 25 2017', 'May 26 2017', 'May 30 2017', 'May 31 2017', 'Jun 01 2017', 'Jun 02 2017', 'Jun 05 2017', 'Jun 06 2017', 'Jun 07 2017', 'Jun 08 2017', 'Jun 09 2017', 'Jun 12 2017', 'Jun 13 2017', 'Jun 14 2017', 'Jun 15 2017', 'Jun 16 2017', 'Jun 19 2017', 'Jun 20 2017', 'Jun 21 2017', 'Jun 22 2017', 'Jun 23 2017', 'Jun 26 2017', 'Jun 27 2017', 'Jun 28 2017', 'Jun 29 2017', 'Jun 30 2017', 'Jul 03 2017', 'Jul 05 2017', 'Jul 06 2017', 'Jul 07 2017', 'Jul 10 2017', 'Jul 11 2017', 'Jul 12 2017', 'Jul 13 2017', 'Jul 14 2017', 'Jul 17 2017', 'Jul 18 2017', 'Jul 19 2017', 'Jul 20 2017', 'Jul 21 2017', 'Jul 24 2017', 'Jul 25 2017', 'Jul 26 2017', 'Jul 27 2017', 'Jul 28 2017', 'Jul 31 2017', 'Aug 01 2017', 'Aug 02 2017', 'Aug 03 2017', 'Aug 04 2017', 'Aug 07 2017', 'Aug 08 2017', 'Aug 09 2017', 'Aug 10 2017', 'Aug 11 2017', 'Aug 14 2017', 'Aug 15 2017', 'Aug 16 2017', 'Aug 17 2017', 'Aug 18 2017', 'Aug 21 2017', 'Aug 22 2017', 'Aug 23 2017', 'Aug 24 2017', 'Aug 25 2017', 'Aug 28 2017', 'Aug 29 2017', 'Aug 30 2017', 'Aug 31 2017', 'Sep 01 2017', 'Sep 05 2017', 'Sep 06 2017', 'Sep 07 2017', 'Sep 08 2017', 'Sep 11 2017', 'Sep 12 2017', 'Sep 13 2017', 'Sep 14 2017', 'Sep 15 2017', 'Sep 18 2017', 'Sep 19 2017', 'Sep 20 2017', 'Sep 21 2017', 'Sep 22 2017', 'Sep 25 2017', 'Sep 26 2017', 'Sep 27 2017', 'Sep 28 2017', 'Sep 29 2017', 'Oct 02 2017', 'Oct 03 2017', 'Oct 04 2017', 'Oct 05 2017', 'Oct 06 2017', 'Oct 09 2017', 'Oct 10 2017', 'Oct 11 2017', 'Oct 12 2017', 'Oct 13 2017', 'Oct 16 2017', 'Oct 17 2017', 'Oct 18 2017', 'Oct 19 2017', 'Oct 20 2017', 'Oct 23 2017', 'Oct 24 2017', 'Oct 25 2017', 'Oct 26 2017', 'Oct 27 2017', 'Oct 30 2017', 'Oct 31 2017', 'Nov 01 2017', 'Nov 02 2017', 'Nov 03 2017', 'Nov 06 2017', 'Nov 07 2017', 'Nov 08 2017', 'Nov 09 2017', 'Nov 10 2017', 'Nov 13 2017', 'Nov 14 2017', 'Nov 15 2017', 'Nov 16 2017', 'Nov 17 2017', 'Nov 20 2017', 'Nov 21 2017', 'Nov 22 2017', 'Nov 24 2017', 'Nov 27 2017', 'Nov 28 2017', 'Nov 29 2017', 'Nov 30 2017', 'Dec 01 2017', 'Dec 04 2017', 'Dec 05 2017', 'Dec 06 2017', 'Dec 07 2017', 'Dec 08 2017', 'Dec 11 2017', 'Dec 12 2017', 'Dec 13 2017', 'Dec 14 2017', 'Dec 15 2017', 'Dec 18 2017', 'Dec 19 2017', 'Dec 20 2017', 'Dec 21 2017', 'Dec 22 2017', 'Dec 26 2017', 'Dec 27 2017', 'Dec 28 2017', 'Dec 29 2017', 'Jan 02 2018', 'Jan 03 2018', 'Jan 04 2018', 'Jan 05 2018', 'Jan 08 2018', 'Jan 09 2018', 'Jan 10 2018', 'Jan 11 2018', 'Jan 12 2018', 'Jan 16 2018', 'Jan 17 2018', 'Jan 18 2018', 'Jan 19 2018', 'Jan 22 2018', 'Jan 23 2018', 'Jan 24 2018', 'Jan 25 2018', 'Jan 26 2018', 'Jan 29 2018', 'Jan 30 2018', 'Jan 31 2018', 'Feb 01 2018', 'Feb 02 2018', 'Feb 05 2018', 'Feb 06 2018', 'Feb 07 2018', 'Feb 08 2018', 'Feb 09 2018', 'Feb 12 2018', 'Feb 13 2018', 'Feb 14 2018', 'Feb 15 2018', 'Feb 16 2018', 'Feb 20 2018', 'Feb 21 2018', 'Feb 22 2018', 'Feb 23 2018', 'Feb 26 2018', 'Feb 27 2018', 'Feb 28 2018', 'Mar 01 2018', 'Mar 02 2018', 'Mar 05 2018', 'Mar 06 2018', 'Mar 07 2018', 'Mar 08 2018', 'Mar 09 2018', 'Mar 12 2018', 'Mar 13 2018', 'Mar 14 2018', 'Mar 15 2018', 'Mar 16 2018', 'Mar 19 2018', 'Mar 20 2018', 'Mar 21 2018', 'Mar 22 2018', 'Mar 23 2018', 'Mar 26 2018', 'Mar 27 2018', 'Mar 28 2018', 'Mar 29 2018', 'Apr 02 2018', 'Apr 03 2018', 'Apr 04 2018', 'Apr 05 2018', 'Apr 06 2018', 'Apr 09 2018', 'Apr 10 2018', 'Apr 11 2018', 'Apr 12 2018', 'Apr 13 2018', 'Apr 16 2018', 'Apr 17 2018', 'Apr 18 2018', 'Apr 19 2018', 'Apr 20 2018', 'Apr 23 2018', 'Apr 24 2018', 'Apr 25 2018', 'Apr 26 2018', 'Apr 27 2018', 'Apr 30 2018', 'May 01 2018', 'May 02 2018', 'May 03 2018', 'May 04 2018', 'May 07 2018', 'May 08 2018', 'May 09 2018', 'May 10 2018', 'May 11 2018', 'May 14 2018', 'May 15 2018', 'May 16 2018', 'May 17 2018', 'May 18 2018', 'May 21 2018', 'May 22 2018', 'May 23 2018', 'May 24 2018', 'May 25 2018', 'May 29 2018', 'May 30 2018', 'May 31 2018', 'Jun 01 2018', 'Jun 04 2018', 'Jun 05 2018', 'Jun 06 2018', 'Jun 07 2018', 'Jun 08 2018', 'Jun 11 2018', 'Jun 12 2018', 'Jun 13 2018', 'Jun 14 2018', 'Jun 15 2018', 'Jun 18 2018', 'Jun 19 2018', 'Jun 20 2018', 'Jun 21 2018', 'Jun 22 2018', 'Jun 25 2018', 'Jun 26 2018', 'Jun 27 2018', 'Jun 28 2018', 'Jun 29 2018', 'Jul 02 2018', 'Jul 03 2018', 'Jul 05 2018', 'Jul 06 2018', 'Jul 09 2018', 'Jul 10 2018', 'Jul 11 2018', 'Jul 12 2018', 'Jul 13 2018', 'Jul 16 2018', 'Jul 17 2018', 'Jul 18 2018', 'Jul 19 2018', 'Jul 20 2018', 'Jul 23 2018', 'Jul 24 2018', 'Jul 25 2018', 'Jul 26 2018', 'Jul 27 2018', 'Jul 30 2018', 'Jul 31 2018', 'Aug 01 2018', 'Aug 02 2018', 'Aug 03 2018', 'Aug 06 2018', 'Aug 07 2018', 'Aug 08 2018', 'Aug 09 2018', 'Aug 10 2018', 'Aug 13 2018', 'Aug 14 2018', 'Aug 15 2018', 'Aug 16 2018', 'Aug 17 2018', 'Aug 20 2018', 'Aug 21 2018', 'Aug 22 2018', 'Aug 23 2018', 'Aug 24 2018', 'Aug 27 2018', 'Aug 28 2018', 'Aug 29 2018', 'Aug 30 2018', 'Aug 31 2018', 'Sep 04 2018', 'Sep 05 2018', 'Sep 06 2018', 'Sep 07 2018', 'Sep 10 2018', 'Sep 11 2018', 'Sep 12 2018', 'Sep 13 2018', 'Sep 14 2018', 'Sep 17 2018', 'Sep 18 2018', 'Sep 19 2018', 'Sep 20 2018', 'Sep 21 2018', 'Sep 24 2018', 'Sep 25 2018', 'Sep 26 2018', 'Sep 27 2018', 'Sep 28 2018', 'Oct 01 2018', 'Oct 02 2018', 'Oct 03 2018', 'Oct 04 2018', 'Oct 05 2018', 'Oct 08 2018', 'Oct 09 2018', 'Oct 10 2018', 'Oct 11 2018', 'Oct 12 2018', 'Oct 15 2018', 'Oct 16 2018', 'Oct 17 2018', 'Oct 18 2018', 'Oct 19 2018', 'Oct 22 2018', 'Oct 23 2018', 'Oct 24 2018', 'Oct 25 2018', 'Oct 26 2018', 'Oct 29 2018', 'Oct 30 2018', 'Oct 31 2018', 'Nov 01 2018', 'Nov 02 2018', 'Nov 05 2018', 'Nov 06 2018', 'Nov 07 2018', 'Nov 08 2018', 'Nov 09 2018', 'Nov 12 2018', 'Nov 13 2018', 'Nov 14 2018', 'Nov 15 2018', 'Nov 16 2018', 'Nov 19 2018', 'Nov 20 2018', 'Nov 21 2018', 'Nov 23 2018', 'Nov 26 2018', 'Nov 27 2018', 'Nov 28 2018', 'Nov 29 2018', 'Nov 30 2018', 'Dec 03 2018', 'Dec 04 2018', 'Dec 05 2018', 'Dec 06 2018', 'Dec 07 2018', 'Dec 10 2018', 'Dec 11 2018', 'Dec 12 2018', 'Dec 13 2018', 'Dec 14 2018', 'Dec 17 2018', 'Dec 18 2018', 'Dec 19 2018', 'Dec 20 2018', 'Dec 21 2018', 'Dec 24 2018', 'Dec 26 2018', 'Dec 27 2018', 'Dec 28 2018', 'Dec 31 2018', 'Jan 02 2019', 'Jan 03 2019', 'Jan 04 2019', 'Jan 07 2019', 'Jan 08 2019', 'Jan 09 2019', 'Jan 10 2019', 'Jan 11 2019', 'Jan 14 2019', 'Jan 15 2019', 'Jan 16 2019', 'Jan 17 2019', 'Jan 18 2019', 'Jan 22 2019', 'Jan 23 2019', 'Jan 24 2019', 'Jan 25 2019', 'Jan 28 2019', 'Jan 29 2019', 'Jan 30 2019', 'Jan 31 2019', 'Feb 01 2019', 'Feb 04 2019', 'Feb 05 2019', 'Feb 06 2019', 'Feb 07 2019', 'Feb 08 2019', 'Feb 11 2019', 'Feb 12 2019', 'Feb 13 2019', 'Feb 14 2019', 'Feb 15 2019', 'Feb 19 2019', 'Feb 20 2019', 'Feb 21 2019', 'Feb 22 2019', 'Feb 25 2019', 'Feb 26 2019', 'Feb 27 2019', 'Feb 28 2019', 'Mar 01 2019', 'Mar 04 2019', 'Mar 05 2019', 'Mar 06 2019', 'Mar 07 2019', 'Mar 08 2019', 'Mar 11 2019', 'Mar 12 2019', 'Mar 13 2019', 'Mar 14 2019', 'Mar 15 2019', 'Mar 18 2019', 'Mar 19 2019', 'Mar 20 2019', 'Mar 21 2019', 'Mar 22 2019', 'Mar 25 2019', 'Mar 26 2019', 'Mar 27 2019', 'Mar 28 2019', 'Mar 29 2019', 'Apr 01 2019', 'Apr 02 2019', 'Apr 03 2019', 'Apr 04 2019', 'Apr 05 2019', 'Apr 08 2019', 'Apr 09 2019', 'Apr 10 2019', 'Apr 11 2019', 'Apr 12 2019', 'Apr 15 2019', 'Apr 16 2019', 'Apr 17 2019', 'Apr 18 2019', 'Apr 22 2019', 'Apr 23 2019', 'Apr 24 2019', 'Apr 25 2019', 'Apr 26 2019', 'Apr 29 2019', 'Apr 30 2019', 'May 01 2019', 'May 02 2019', 'May 03 2019', 'May 06 2019', 'May 07 2019', 'May 08 2019', 'May 09 2019', 'May 10 2019', 'May 13 2019', 'May 14 2019', 'May 15 2019', 'May 16 2019', 'May 17 2019', 'May 20 2019', 'May 21 2019', 'May 22 2019', 'May 23 2019', 'May 24 2019', 'May 28 2019', 'May 29 2019', 'May 30 2019', 'May 31 2019', 'Jun 03 2019', 'Jun 04 2019', 'Jun 05 2019', 'Jun 06 2019', 'Jun 07 2019', 'Jun 10 2019', 'Jun 11 2019', 'Jun 12 2019', 'Jun 13 2019', 'Jun 14 2019', 'Jun 17 2019', 'Jun 18 2019', 'Jun 19 2019', 'Jun 20 2019', 'Jun 21 2019', 'Jun 24 2019', 'Jun 25 2019', 'Jun 26 2019', 'Jun 27 2019', 'Jun 28 2019', 'Jul 01 2019', 'Jul 02 2019', 'Jul 03 2019', 'Jul 05 2019', 'Jul 08 2019', 'Jul 09 2019', 'Jul 10 2019', 'Jul 11 2019', 'Jul 12 2019', 'Jul 15 2019', 'Jul 16 2019', 'Jul 17 2019', 'Jul 18 2019', 'Jul 19 2019', 'Jul 22 2019', 'Jul 23 2019', 'Jul 24 2019', 'Jul 25 2019', 'Jul 26 2019', 'Jul 29 2019', 'Jul 30 2019', 'Jul 31 2019', 'Aug 01 2019', 'Aug 02 2019', 'Aug 05 2019', 'Aug 06 2019', 'Aug 07 2019', 'Aug 08 2019', 'Aug 09 2019', 'Aug 12 2019', 'Aug 13 2019', 'Aug 14 2019', 'Aug 15 2019', 'Aug 16 2019', 'Aug 19 2019', 'Aug 20 2019', 'Aug 21 2019', 'Aug 22 2019', 'Aug 23 2019', 'Aug 26 2019', 'Aug 27 2019', 'Aug 28 2019', 'Aug 29 2019', 'Aug 30 2019', 'Sep 03 2019', 'Sep 04 2019', 'Sep 05 2019', 'Sep 06 2019', 'Sep 09 2019', 'Sep 10 2019', 'Sep 11 2019', 'Sep 12 2019', 'Sep 13 2019', 'Sep 16 2019', 'Sep 17 2019', 'Sep 18 2019', 'Sep 19 2019', 'Sep 20 2019', 'Sep 23 2019', 'Sep 24 2019', 'Sep 25 2019', 'Sep 26 2019', 'Sep 27 2019', 'Sep 30 2019', 'Oct 01 2019', 'Oct 02 2019', 'Oct 03 2019', 'Oct 04 2019', 'Oct 07 2019', 'Oct 08 2019', 'Oct 09 2019', 'Oct 10 2019', 'Oct 11 2019', 'Oct 14 2019', 'Oct 15 2019', 'Oct 16 2019', 'Oct 17 2019', 'Oct 18 2019', 'Oct 21 2019', 'Oct 22 2019', 'Oct 23 2019', 'Oct 24 2019', 'Oct 25 2019', 'Oct 28 2019', 'Oct 29 2019', 'Oct 30 2019', 'Oct 31 2019', 'Nov 01 2019', 'Nov 04 2019', 'Nov 05 2019', 'Nov 06 2019', 'Nov 07 2019', 'Nov 08 2019', 'Nov 11 2019', 'Nov 12 2019', 'Nov 13 2019', 'Nov 14 2019', 'Nov 15 2019', 'Nov 18 2019', 'Nov 19 2019', 'Nov 20 2019', 'Nov 21 2019', 'Nov 22 2019', 'Nov 25 2019', 'Nov 26 2019', 'Nov 27 2019', 'Nov 29 2019', 'Dec 02 2019', 'Dec 03 2019', 'Dec 04 2019', 'Dec 05 2019', 'Dec 06 2019', 'Dec 09 2019', 'Dec 10 2019', 'Dec 11 2019', 'Dec 12 2019', 'Dec 13 2019', 'Dec 16 2019', 'Dec 17 2019', 'Dec 18 2019', 'Dec 19 2019', 'Dec 20 2019', 'Dec 23 2019', 'Dec 24 2019', 'Dec 26 2019', 'Dec 27 2019', 'Dec 30 2019', 'Dec 31 2019']\n"
          ],
          "name": "stdout"
        },
        {
          "output_type": "execute_result",
          "data": {
            "text/plain": [
              "1259"
            ]
          },
          "metadata": {
            "tags": []
          },
          "execution_count": 3
        }
      ]
    },
    {
      "cell_type": "code",
      "metadata": {
        "id": "9_HwH8yXuFic",
        "colab_type": "code",
        "colab": {
          "base_uri": "https://localhost:8080/",
          "height": 407
        },
        "outputId": "08e309ba-5bdf-4723-8909-48d25562b110"
      },
      "source": [
        "S_path = S_path[:len(dts)]\n",
        "import pandas as pd\n",
        "df = pd.DataFrame(\n",
        "    {'Date': dts,\n",
        "     'Close': S_path\n",
        "    })\n",
        "df"
      ],
      "execution_count": 4,
      "outputs": [
        {
          "output_type": "execute_result",
          "data": {
            "text/html": [
              "<div>\n",
              "<style scoped>\n",
              "    .dataframe tbody tr th:only-of-type {\n",
              "        vertical-align: middle;\n",
              "    }\n",
              "\n",
              "    .dataframe tbody tr th {\n",
              "        vertical-align: top;\n",
              "    }\n",
              "\n",
              "    .dataframe thead th {\n",
              "        text-align: right;\n",
              "    }\n",
              "</style>\n",
              "<table border=\"1\" class=\"dataframe\">\n",
              "  <thead>\n",
              "    <tr style=\"text-align: right;\">\n",
              "      <th></th>\n",
              "      <th>Date</th>\n",
              "      <th>Close</th>\n",
              "    </tr>\n",
              "  </thead>\n",
              "  <tbody>\n",
              "    <tr>\n",
              "      <th>0</th>\n",
              "      <td>Jan 02 2015</td>\n",
              "      <td>50.059896</td>\n",
              "    </tr>\n",
              "    <tr>\n",
              "      <th>1</th>\n",
              "      <td>Jan 05 2015</td>\n",
              "      <td>49.663376</td>\n",
              "    </tr>\n",
              "    <tr>\n",
              "      <th>2</th>\n",
              "      <td>Jan 06 2015</td>\n",
              "      <td>49.811489</td>\n",
              "    </tr>\n",
              "    <tr>\n",
              "      <th>3</th>\n",
              "      <td>Jan 07 2015</td>\n",
              "      <td>49.900222</td>\n",
              "    </tr>\n",
              "    <tr>\n",
              "      <th>4</th>\n",
              "      <td>Jan 08 2015</td>\n",
              "      <td>48.011888</td>\n",
              "    </tr>\n",
              "    <tr>\n",
              "      <th>...</th>\n",
              "      <td>...</td>\n",
              "      <td>...</td>\n",
              "    </tr>\n",
              "    <tr>\n",
              "      <th>1254</th>\n",
              "      <td>Dec 24 2019</td>\n",
              "      <td>59.412298</td>\n",
              "    </tr>\n",
              "    <tr>\n",
              "      <th>1255</th>\n",
              "      <td>Dec 26 2019</td>\n",
              "      <td>58.736660</td>\n",
              "    </tr>\n",
              "    <tr>\n",
              "      <th>1256</th>\n",
              "      <td>Dec 27 2019</td>\n",
              "      <td>58.958088</td>\n",
              "    </tr>\n",
              "    <tr>\n",
              "      <th>1257</th>\n",
              "      <td>Dec 30 2019</td>\n",
              "      <td>57.928405</td>\n",
              "    </tr>\n",
              "    <tr>\n",
              "      <th>1258</th>\n",
              "      <td>Dec 31 2019</td>\n",
              "      <td>57.807408</td>\n",
              "    </tr>\n",
              "  </tbody>\n",
              "</table>\n",
              "<p>1259 rows × 2 columns</p>\n",
              "</div>"
            ],
            "text/plain": [
              "             Date      Close\n",
              "0     Jan 02 2015  50.059896\n",
              "1     Jan 05 2015  49.663376\n",
              "2     Jan 06 2015  49.811489\n",
              "3     Jan 07 2015  49.900222\n",
              "4     Jan 08 2015  48.011888\n",
              "...           ...        ...\n",
              "1254  Dec 24 2019  59.412298\n",
              "1255  Dec 26 2019  58.736660\n",
              "1256  Dec 27 2019  58.958088\n",
              "1257  Dec 30 2019  57.928405\n",
              "1258  Dec 31 2019  57.807408\n",
              "\n",
              "[1259 rows x 2 columns]"
            ]
          },
          "metadata": {
            "tags": []
          },
          "execution_count": 4
        }
      ]
    },
    {
      "cell_type": "code",
      "metadata": {
        "id": "w4nkJi6QuPH8",
        "colab_type": "code",
        "colab": {
          "base_uri": "https://localhost:8080/",
          "height": 272
        },
        "outputId": "866372ea-3eeb-424a-be1b-6a4bdfac09c3"
      },
      "source": [
        "df['Date'] = pd.to_datetime(df['Date']).dt.strftime('%m/%d/%Y')\n",
        "\n",
        "\n",
        "dcd = df.copy()\n",
        "print(dcd)"
      ],
      "execution_count": 7,
      "outputs": [
        {
          "output_type": "stream",
          "text": [
            "            Date      Close\n",
            "0     01/02/2015  50.059896\n",
            "1     01/05/2015  49.663376\n",
            "2     01/06/2015  49.811489\n",
            "3     01/07/2015  49.900222\n",
            "4     01/08/2015  48.011888\n",
            "...          ...        ...\n",
            "1254  12/24/2019  59.412298\n",
            "1255  12/26/2019  58.736660\n",
            "1256  12/27/2019  58.958088\n",
            "1257  12/30/2019  57.928405\n",
            "1258  12/31/2019  57.807408\n",
            "\n",
            "[1259 rows x 2 columns]\n"
          ],
          "name": "stdout"
        }
      ]
    },
    {
      "cell_type": "code",
      "metadata": {
        "id": "E8j7feZguYXK",
        "colab_type": "code",
        "colab": {
          "base_uri": "https://localhost:8080/",
          "height": 501
        },
        "outputId": "a3b31e6f-4000-42e6-f166-7a26df509115"
      },
      "source": [
        "#setting index as date\n",
        "#df['Date'] = pd.to_datetime(df['Date'],format='%Y-%m-%d')\n",
        "df.index = df['Date']\n",
        "\n",
        "#plot\n",
        "plt.figure(figsize=(16,8))\n",
        "plt.plot(df['Close'], label='Close Price history')\n"
      ],
      "execution_count": 8,
      "outputs": [
        {
          "output_type": "execute_result",
          "data": {
            "text/plain": [
              "[<matplotlib.lines.Line2D at 0x7f6bbbf38f98>]"
            ]
          },
          "metadata": {
            "tags": []
          },
          "execution_count": 8
        },
        {
          "output_type": "display_data",
          "data": {
            "image/png": "[encoded data removed]",
            "text/plain": [
              "<Figure size 1152x576 with 1 Axes>"
            ]
          },
          "metadata": {
            "tags": []
          }
        }
      ]
    },
    {
      "cell_type": "code",
      "metadata": {
        "id": "xNzaTIfC3ZJW",
        "colab_type": "code",
        "colab": {
          "base_uri": "https://localhost:8080/",
          "height": 437
        },
        "outputId": "e73d1a57-e72c-4668-891a-5928e61f3b65"
      },
      "source": [
        "df"
      ],
      "execution_count": 9,
      "outputs": [
        {
          "output_type": "execute_result",
          "data": {
            "text/html": [
              "<div>\n",
              "<style scoped>\n",
              "    .dataframe tbody tr th:only-of-type {\n",
              "        vertical-align: middle;\n",
              "    }\n",
              "\n",
              "    .dataframe tbody tr th {\n",
              "        vertical-align: top;\n",
              "    }\n",
              "\n",
              "    .dataframe thead th {\n",
              "        text-align: right;\n",
              "    }\n",
              "</style>\n",
              "<table border=\"1\" class=\"dataframe\">\n",
              "  <thead>\n",
              "    <tr style=\"text-align: right;\">\n",
              "      <th></th>\n",
              "      <th>Date</th>\n",
              "      <th>Close</th>\n",
              "    </tr>\n",
              "    <tr>\n",
              "      <th>Date</th>\n",
              "      <th></th>\n",
              "      <th></th>\n",
              "    </tr>\n",
              "  </thead>\n",
              "  <tbody>\n",
              "    <tr>\n",
              "      <th>01/02/2015</th>\n",
              "      <td>01/02/2015</td>\n",
              "      <td>50.059896</td>\n",
              "    </tr>\n",
              "    <tr>\n",
              "      <th>01/05/2015</th>\n",
              "      <td>01/05/2015</td>\n",
              "      <td>49.663376</td>\n",
              "    </tr>\n",
              "    <tr>\n",
              "      <th>01/06/2015</th>\n",
              "      <td>01/06/2015</td>\n",
              "      <td>49.811489</td>\n",
              "    </tr>\n",
              "    <tr>\n",
              "      <th>01/07/2015</th>\n",
              "      <td>01/07/2015</td>\n",
              "      <td>49.900222</td>\n",
              "    </tr>\n",
              "    <tr>\n",
              "      <th>01/08/2015</th>\n",
              "      <td>01/08/2015</td>\n",
              "      <td>48.011888</td>\n",
              "    </tr>\n",
              "    <tr>\n",
              "      <th>...</th>\n",
              "      <td>...</td>\n",
              "      <td>...</td>\n",
              "    </tr>\n",
              "    <tr>\n",
              "      <th>12/24/2019</th>\n",
              "      <td>12/24/2019</td>\n",
              "      <td>59.412298</td>\n",
              "    </tr>\n",
              "    <tr>\n",
              "      <th>12/26/2019</th>\n",
              "      <td>12/26/2019</td>\n",
              "      <td>58.736660</td>\n",
              "    </tr>\n",
              "    <tr>\n",
              "      <th>12/27/2019</th>\n",
              "      <td>12/27/2019</td>\n",
              "      <td>58.958088</td>\n",
              "    </tr>\n",
              "    <tr>\n",
              "      <th>12/30/2019</th>\n",
              "      <td>12/30/2019</td>\n",
              "      <td>57.928405</td>\n",
              "    </tr>\n",
              "    <tr>\n",
              "      <th>12/31/2019</th>\n",
              "      <td>12/31/2019</td>\n",
              "      <td>57.807408</td>\n",
              "    </tr>\n",
              "  </tbody>\n",
              "</table>\n",
              "<p>1259 rows × 2 columns</p>\n",
              "</div>"
            ],
            "text/plain": [
              "                  Date      Close\n",
              "Date                             \n",
              "01/02/2015  01/02/2015  50.059896\n",
              "01/05/2015  01/05/2015  49.663376\n",
              "01/06/2015  01/06/2015  49.811489\n",
              "01/07/2015  01/07/2015  49.900222\n",
              "01/08/2015  01/08/2015  48.011888\n",
              "...                ...        ...\n",
              "12/24/2019  12/24/2019  59.412298\n",
              "12/26/2019  12/26/2019  58.736660\n",
              "12/27/2019  12/27/2019  58.958088\n",
              "12/30/2019  12/30/2019  57.928405\n",
              "12/31/2019  12/31/2019  57.807408\n",
              "\n",
              "[1259 rows x 2 columns]"
            ]
          },
          "metadata": {
            "tags": []
          },
          "execution_count": 9
        }
      ]
    },
    {
      "cell_type": "code",
      "metadata": {
        "id": "V8Ufvnb8u6Io",
        "colab_type": "code",
        "colab": {}
      },
      "source": [
        "#importing required libraries\n",
        "import numpy as np\n",
        "from sklearn.preprocessing import MinMaxScaler\n",
        "from keras.models import Sequential\n",
        "from keras.layers import Dense, Dropout, LSTM\n",
        "\n",
        "#creating dataframe\n",
        "data = df.sort_index(ascending=True, axis=0)\n",
        "dataset = pd.DataFrame(index=range(0,len(df)),columns=['Date', 'Close'])\n",
        "for i in range(0,len(data)):\n",
        "    dataset['Date'][i] = data['Date'][i]\n",
        "    dataset['Close'][i] = data['Close'][i]\n",
        "\n",
        "#setting index\n",
        "dataset.index = dataset.Date\n",
        "dataset.drop('Date', axis=1, inplace=True)\n",
        "\n",
        "train = dataset[0:1239,:]\n",
        "valid = dataset[1239:,:]\n"
      ],
      "execution_count": 0,
      "outputs": []
    },
    {
      "cell_type": "code",
      "metadata": {
        "id": "AHKc4qdbijem",
        "colab_type": "code",
        "colab": {}
      },
      "source": [
        "dcd = pd.DataFrame(\n",
        "    {'Date': dts,\n",
        "     'Close': S_path\n",
        "    })\n",
        "dcd\n",
        "dcd['Date'] = pd.to_datetime(dcd['Date']).dt.strftime('%m/%d/%Y')\n",
        "\n",
        "train_dt = dcd[0:1239]\n",
        "valid_dt = dcd[1239:]\n"
      ],
      "execution_count": 0,
      "outputs": []
    },
    {
      "cell_type": "code",
      "metadata": {
        "id": "0PwbirDvvNqj",
        "colab_type": "code",
        "colab": {
          "base_uri": "https://localhost:8080/",
          "height": 407
        },
        "outputId": "ad53dde5-02b1-4547-cb37-d50683b45919"
      },
      "source": [
        "train_dt"
      ],
      "execution_count": 45,
      "outputs": [
        {
          "output_type": "execute_result",
          "data": {
            "text/html": [
              "<div>\n",
              "<style scoped>\n",
              "    .dataframe tbody tr th:only-of-type {\n",
              "        vertical-align: middle;\n",
              "    }\n",
              "\n",
              "    .dataframe tbody tr th {\n",
              "        vertical-align: top;\n",
              "    }\n",
              "\n",
              "    .dataframe thead th {\n",
              "        text-align: right;\n",
              "    }\n",
              "</style>\n",
              "<table border=\"1\" class=\"dataframe\">\n",
              "  <thead>\n",
              "    <tr style=\"text-align: right;\">\n",
              "      <th></th>\n",
              "      <th>Date</th>\n",
              "      <th>Close</th>\n",
              "    </tr>\n",
              "  </thead>\n",
              "  <tbody>\n",
              "    <tr>\n",
              "      <th>0</th>\n",
              "      <td>01/02/2015</td>\n",
              "      <td>50.059896</td>\n",
              "    </tr>\n",
              "    <tr>\n",
              "      <th>1</th>\n",
              "      <td>01/05/2015</td>\n",
              "      <td>49.663376</td>\n",
              "    </tr>\n",
              "    <tr>\n",
              "      <th>2</th>\n",
              "      <td>01/06/2015</td>\n",
              "      <td>49.811489</td>\n",
              "    </tr>\n",
              "    <tr>\n",
              "      <th>3</th>\n",
              "      <td>01/07/2015</td>\n",
              "      <td>49.900222</td>\n",
              "    </tr>\n",
              "    <tr>\n",
              "      <th>4</th>\n",
              "      <td>01/08/2015</td>\n",
              "      <td>48.011888</td>\n",
              "    </tr>\n",
              "    <tr>\n",
              "      <th>...</th>\n",
              "      <td>...</td>\n",
              "      <td>...</td>\n",
              "    </tr>\n",
              "    <tr>\n",
              "      <th>1234</th>\n",
              "      <td>11/25/2019</td>\n",
              "      <td>57.037886</td>\n",
              "    </tr>\n",
              "    <tr>\n",
              "      <th>1235</th>\n",
              "      <td>11/26/2019</td>\n",
              "      <td>58.444293</td>\n",
              "    </tr>\n",
              "    <tr>\n",
              "      <th>1236</th>\n",
              "      <td>11/27/2019</td>\n",
              "      <td>57.984133</td>\n",
              "    </tr>\n",
              "    <tr>\n",
              "      <th>1237</th>\n",
              "      <td>11/29/2019</td>\n",
              "      <td>58.121490</td>\n",
              "    </tr>\n",
              "    <tr>\n",
              "      <th>1238</th>\n",
              "      <td>12/02/2019</td>\n",
              "      <td>57.131572</td>\n",
              "    </tr>\n",
              "  </tbody>\n",
              "</table>\n",
              "<p>1239 rows × 2 columns</p>\n",
              "</div>"
            ],
            "text/plain": [
              "            Date      Close\n",
              "0     01/02/2015  50.059896\n",
              "1     01/05/2015  49.663376\n",
              "2     01/06/2015  49.811489\n",
              "3     01/07/2015  49.900222\n",
              "4     01/08/2015  48.011888\n",
              "...          ...        ...\n",
              "1234  11/25/2019  57.037886\n",
              "1235  11/26/2019  58.444293\n",
              "1236  11/27/2019  57.984133\n",
              "1237  11/29/2019  58.121490\n",
              "1238  12/02/2019  57.131572\n",
              "\n",
              "[1239 rows x 2 columns]"
            ]
          },
          "metadata": {
            "tags": []
          },
          "execution_count": 45
        }
      ]
    },
    {
      "cell_type": "code",
      "metadata": {
        "id": "OKyEoYCQvLkx",
        "colab_type": "code",
        "colab": {}
      },
      "source": [
        "\n",
        "#converting dataset into x_train and y_train\n",
        "scaler = MinMaxScaler(feature_range=(0, 1))\n",
        "scaled_data = scaler.fit_transform(dataset)"
      ],
      "execution_count": 0,
      "outputs": []
    },
    {
      "cell_type": "code",
      "metadata": {
        "id": "_5suAHcuNp02",
        "colab_type": "code",
        "outputId": "2781ab1a-2ad1-435d-ab3e-ea6ee7819ae0",
        "colab": {
          "base_uri": "https://localhost:8080/",
          "height": 145
        }
      },
      "source": [
        "dataset_train = train_dt.copy()\n",
        "training_set = dataset_train.iloc[:, 1:2].values #.values is used for creating a numpy array\n",
        "\n",
        "training_set"
      ],
      "execution_count": 46,
      "outputs": [
        {
          "output_type": "execute_result",
          "data": {
            "text/plain": [
              "array([[50.05989576],\n",
              "       [49.66337646],\n",
              "       [49.81148869],\n",
              "       ...,\n",
              "       [57.98413251],\n",
              "       [58.12149022],\n",
              "       [57.1315717 ]])"
            ]
          },
          "metadata": {
            "tags": []
          },
          "execution_count": 46
        }
      ]
    },
    {
      "cell_type": "code",
      "metadata": {
        "id": "oX6meHYxt199",
        "colab_type": "code",
        "colab": {
          "base_uri": "https://localhost:8080/",
          "height": 145
        },
        "outputId": "104a3c43-130b-4202-8009-1b1f242e888d"
      },
      "source": [
        "training_set"
      ],
      "execution_count": 50,
      "outputs": [
        {
          "output_type": "execute_result",
          "data": {
            "text/plain": [
              "array([[50.05989576],\n",
              "       [49.66337646],\n",
              "       [49.81148869],\n",
              "       ...,\n",
              "       [57.98413251],\n",
              "       [58.12149022],\n",
              "       [57.1315717 ]])"
            ]
          },
          "metadata": {
            "tags": []
          },
          "execution_count": 50
        }
      ]
    },
    {
      "cell_type": "code",
      "metadata": {
        "id": "qKAGRCVnwQOc",
        "colab_type": "code",
        "colab": {}
      },
      "source": [
        ""
      ],
      "execution_count": 0,
      "outputs": []
    },
    {
      "cell_type": "code",
      "metadata": {
        "id": "xpuq5LiUI_Tx",
        "colab_type": "code",
        "colab": {}
      },
      "source": [
        "\n",
        "# Feature Scaling\n",
        "from sklearn.preprocessing import MinMaxScaler\n",
        "sc = MinMaxScaler(feature_range = (0, 1)) #default feature range\n",
        "\"\"\"We have to take new variable and apply fit_transform method from minmax scaler class. Here fit means it is going to\n",
        "get the min and max of the input data so that it could apply values to the Normalisation formulae. And from that transform method\n",
        "it is going to compute scaled stock prices for each of the stock prices from the training set according to the Normalisation Formulae\"\"\"\n",
        "training_set_scaled = sc.fit_transform(training_set) \n",
        "\n",
        "# Creating a data structure with 60 timesteps and 1 output\n",
        "\"\"\"60 timesteps means that for each time t rnn is going to look at 60 stock prices before time t that is stock prices between 60 days before time t and time t\n",
        "and based on the trends and correlation it is capturing during the 60 periods time steps it is going to predict the next output.\"\"\"\n",
        "X_train = [] # inputs to the NN\n",
        "y_train = [] # output to the NN\n",
        "#for i in range(60, 1258): #to populate X_train and y_train\n",
        "for i in range(60, 1239):\n",
        "    X_train.append(training_set_scaled[i-60:i, 0])\n",
        "    y_train.append(training_set_scaled[i, 0])\n",
        "X_train, y_train = np.array(X_train), np.array(y_train)\n",
        "\n",
        "# Reshaping\n",
        "#Here we are getting 3d structure for X_train by adding third dimension as indicator.\n",
        "X_train = np.reshape(X_train, (X_train.shape[0], X_train.shape[1], 1))\n",
        "\n",
        "\n"
      ],
      "execution_count": 0,
      "outputs": []
    },
    {
      "cell_type": "code",
      "metadata": {
        "id": "ymvgKxDfJDtC",
        "colab_type": "code",
        "outputId": "3d7a0ca9-0e1f-4919-d061-b72f16b22b88",
        "colab": {
          "base_uri": "https://localhost:8080/",
          "height": 1000
        }
      },
      "source": [
        "\n",
        "# Part 2 - Building the RNN using stacked LSTMs\n",
        "\n",
        "# Importing the Keras libraries and packages\n",
        "from keras.models import Sequential\n",
        "from keras.layers import Dense\n",
        "from keras.layers import LSTM\n",
        "from keras.layers import Dropout\n",
        "\n",
        "\"\"\"Initialising the RNN as a sequence of layers as opposed to computational graphs\n",
        "here regressor is used because we are predicting continous values.\"\"\"\n",
        "regressor = Sequential()\n",
        "\n",
        "\"\"\"Adding the first LSTM layer and some Dropout regularisation\n",
        "  regressor is an object to sequential class. Sequential class contains add method which is used here.\n",
        "  Then we add lstm layer using lstm class. \n",
        "  It contains three arguments: 1. No of Units/neurons 2.To create stacked(more than 1 layer) LSTM we have to set return_sequences = True\n",
        "  3. input_shape contains three dimensions no of observations, no of timesteps and no of indicators, here we have taken last two dimensions because first one will\n",
        "  be automatically considered.\"\"\"\n",
        "regressor.add(LSTM(units = 50, return_sequences = True, input_shape = (X_train.shape[1], 1)))\n",
        "#here we are using dropout regularization in order to prevent overfitting in the model.\n",
        "regressor.add(Dropout(0.1))\n",
        "\n",
        "# Adding a second LSTM layer and some Dropout regularisation\n",
        "regressor.add(LSTM(units = 50, return_sequences = True))\n",
        "regressor.add(Dropout(0.1))\n",
        "\n",
        "regressor.add(LSTM(units = 50, return_sequences = True))\n",
        "regressor.add(Dropout(0.1))\n",
        "\n",
        "# Adding a third LSTM layer and some Dropout regularisation\n",
        "regressor.add(LSTM(units = 50, return_sequences = True))\n",
        "regressor.add(Dropout(0.2))\n",
        "\n",
        "regressor.add(LSTM(units=50,return_sequences=True))\n",
        "regressor.add(Dropout(0.2))\n",
        "\n",
        "regressor.add(LSTM(units=50,return_sequences=True))\n",
        "regressor.add(Dropout(0.2))\n",
        "\n",
        "# Adding a fourth LSTM layer and some Dropout regularisation\n",
        "regressor.add(LSTM(units = 50))\n",
        "regressor.add(Dropout(0.2))\n",
        "\n",
        "# Adding the output layer\n",
        "regressor.add(Dense(units = 1))\n",
        "\n",
        "# Compiling the RNN\n",
        "regressor.compile(optimizer = 'adam', loss = 'mean_squared_error')#here loss is mse because we are doing regression here\n",
        "\n",
        "# Fitting the RNN to the Training set\n",
        "regressor.fit(X_train, y_train, epochs = 30, batch_size = 16)\n",
        "\"\"\"Since here our dataset is less that's why we have set our epochs = 100, We can also increase no of epochs but it might \n",
        "leads to overfitting which is bad for our model.\"\"\"\n"
      ],
      "execution_count": 94,
      "outputs": [
        {
          "output_type": "stream",
          "text": [
            "Epoch 1/30\n",
            "1229/1229 [==============================] - 14s 11ms/step - loss: 0.0374\n",
            "Epoch 2/30\n",
            "1229/1229 [==============================] - 3s 3ms/step - loss: 0.0055\n",
            "Epoch 3/30\n",
            "1229/1229 [==============================] - 3s 3ms/step - loss: 0.0056\n",
            "Epoch 4/30\n",
            "1229/1229 [==============================] - 3s 3ms/step - loss: 0.0051\n",
            "Epoch 5/30\n",
            "1229/1229 [==============================] - 3s 3ms/step - loss: 0.0048\n",
            "Epoch 6/30\n",
            "1229/1229 [==============================] - 3s 3ms/step - loss: 0.0043\n",
            "Epoch 7/30\n",
            "1229/1229 [==============================] - 3s 3ms/step - loss: 0.0043\n",
            "Epoch 8/30\n",
            "1229/1229 [==============================] - 3s 3ms/step - loss: 0.0040\n",
            "Epoch 9/30\n",
            "1229/1229 [==============================] - 3s 3ms/step - loss: 0.0042\n",
            "Epoch 10/30\n",
            "1229/1229 [==============================] - 3s 3ms/step - loss: 0.0045\n",
            "Epoch 11/30\n",
            "1229/1229 [==============================] - 3s 3ms/step - loss: 0.0044\n",
            "Epoch 12/30\n",
            "1229/1229 [==============================] - 3s 3ms/step - loss: 0.0038\n",
            "Epoch 13/30\n",
            "1229/1229 [==============================] - 3s 3ms/step - loss: 0.0037\n",
            "Epoch 14/30\n",
            "1229/1229 [==============================] - 3s 3ms/step - loss: 0.0035\n",
            "Epoch 15/30\n",
            "1229/1229 [==============================] - 3s 3ms/step - loss: 0.0034\n",
            "Epoch 16/30\n",
            "1229/1229 [==============================] - 3s 3ms/step - loss: 0.0037\n",
            "Epoch 17/30\n",
            "1229/1229 [==============================] - 3s 3ms/step - loss: 0.0036\n",
            "Epoch 18/30\n",
            "1229/1229 [==============================] - 3s 3ms/step - loss: 0.0034\n",
            "Epoch 19/30\n",
            "1229/1229 [==============================] - 3s 3ms/step - loss: 0.0032\n",
            "Epoch 20/30\n",
            "1229/1229 [==============================] - 3s 3ms/step - loss: 0.0034\n",
            "Epoch 21/30\n",
            "1229/1229 [==============================] - 3s 3ms/step - loss: 0.0033\n",
            "Epoch 22/30\n",
            "1229/1229 [==============================] - 3s 3ms/step - loss: 0.0031\n",
            "Epoch 23/30\n",
            "1229/1229 [==============================] - 3s 3ms/step - loss: 0.0030\n",
            "Epoch 24/30\n",
            "1229/1229 [==============================] - 3s 3ms/step - loss: 0.0027\n",
            "Epoch 25/30\n",
            "1229/1229 [==============================] - 3s 3ms/step - loss: 0.0031\n",
            "Epoch 26/30\n",
            "1229/1229 [==============================] - 3s 3ms/step - loss: 0.0029\n",
            "Epoch 27/30\n",
            "1229/1229 [==============================] - 3s 3ms/step - loss: 0.0028\n",
            "Epoch 28/30\n",
            "1229/1229 [==============================] - 3s 3ms/step - loss: 0.0027\n",
            "Epoch 29/30\n",
            "1229/1229 [==============================] - 3s 3ms/step - loss: 0.0026\n",
            "Epoch 30/30\n",
            "1229/1229 [==============================] - 3s 3ms/step - loss: 0.0024\n"
          ],
          "name": "stdout"
        },
        {
          "output_type": "execute_result",
          "data": {
            "text/plain": [
              "\"Since here our dataset is less that's why we have set our epochs = 100, We can also increase no of epochs but it might \\nleads to overfitting which is bad for our model.\""
            ]
          },
          "metadata": {
            "tags": []
          },
          "execution_count": 94
        }
      ]
    },
    {
      "cell_type": "code",
      "metadata": {
        "id": "P51h90C7jxqL",
        "colab_type": "code",
        "colab": {}
      },
      "source": [
        "dataset_train = train_dt\n",
        "dataset_test = valid_dt"
      ],
      "execution_count": 0,
      "outputs": []
    },
    {
      "cell_type": "code",
      "metadata": {
        "id": "8JYksZQEbQMX",
        "colab_type": "code",
        "colab": {}
      },
      "source": [
        "\n",
        "# Prediction on validation data for 20 trading days and visualising the results\n",
        "\n",
        "# saving the real GBM stock price of last 20 trading days in 2019 \n",
        "\n",
        "GroundTruth_stock_price = dataset_test.iloc[:, 1:2].values   #converting it into numpy array using .values at end"
      ],
      "execution_count": 0,
      "outputs": []
    },
    {
      "cell_type": "code",
      "metadata": {
        "id": "DApOSgaAa2PT",
        "colab_type": "code",
        "colab": {}
      },
      "source": [
        "\n",
        "# Getting the predicted stock price of 2017\n",
        "\"\"\"Here to predict the stock price of particular day we have to take input as a stockprices of previous 60 days.\n",
        "And while predicting the output some of the stock prices in Jan 2017 have their inputs as the stock prices in test set.\n",
        "Therefore we have to concatenate both the dataset and forms the total dataset. \"\"\"\n",
        "#dataset_total = pd.concat((dataset_train['Open'], dataset_test['Open']), axis = 0)\n",
        "\n",
        "dataset_total = pd.concat((dataset_train['Close'], dataset_test['Close']), axis = 0)\n",
        "inputs = dataset_total[len(dataset_total) - len(dataset_test) - 60:].values\n",
        "#here we have not used iloc method from pandas to get inputs so here there are chances that we can face format problem so we have to reshape the inputs using reshape function\n",
        "inputs = inputs.reshape(-1,1)\n",
        "#scaling the inputs\n",
        "inputs = sc.transform(inputs)\n",
        "#loading the X_test list with values for predicting the Jan 2017 stock prices\n",
        "X_test = []\n",
        "for i in range(60, 80):\n",
        "    X_test.append(inputs[i-60:i, 0])\n",
        "X_test = np.array(X_test)\n",
        "#adding third dimension in X_test \n",
        "X_test = np.reshape(X_test, (X_test.shape[0], X_test.shape[1], 1))\n",
        "#using predict method for predicting values Using X_test as input values\n",
        "predicted_stock_price = regressor.predict(X_test)\n",
        "#inverse_transform method is used for obtaining unscaled/original values.\n",
        "predicted_stock_price = sc.inverse_transform(predicted_stock_price)\n"
      ],
      "execution_count": 0,
      "outputs": []
    },
    {
      "cell_type": "code",
      "metadata": {
        "id": "PN_r12B4JP4y",
        "colab_type": "code",
        "outputId": "2ab85407-38be-42a7-ff57-f9f759bd7546",
        "colab": {
          "base_uri": "https://localhost:8080/",
          "height": 313
        }
      },
      "source": [
        "\n",
        "# Visualising the results\n",
        "plt.plot(GroundTruth_stock_price, color = 'black', label = 'GroundTruth GBM Stock Price')\n",
        "plt.plot(predicted_stock_price, color = 'red', label = 'Predicted GBM Stock Price')\n",
        "plt.title('GBM Stock Price Prediction')\n",
        "plt.xlabel('Time')\n",
        "plt.ylabel('GBM Stock Price')\n",
        "plt.legend()\n",
        "plt.show()\n",
        "\n",
        "\"\"\"Here we can see that model can closely predict the trends which are quite similar to the trends in the GBM stock simulated prices. \"\"\""
      ],
      "execution_count": 96,
      "outputs": [
        {
          "output_type": "display_data",
          "data": {
            "image/png": "[encoded data removed]",
            "text/plain": [
              "<Figure size 432x288 with 1 Axes>"
            ]
          },
          "metadata": {
            "tags": []
          }
        },
        {
          "output_type": "execute_result",
          "data": {
            "text/plain": [
              "'Here we can see that model can closely predict the trends which are quite similar to the trends in the GBM stock simulated prices. '"
            ]
          },
          "metadata": {
            "tags": []
          },
          "execution_count": 96
        }
      ]
    }
  ]
}